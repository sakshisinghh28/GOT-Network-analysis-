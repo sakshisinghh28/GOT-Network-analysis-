import pandas as pd

# List of file names to process
file_names = ['book1.csv', 'book2.csv', 'book3.csv', 'book4.csv', 'book5.csv']

# Iterate over each file
for file_name in file_names:
    file_path = f'/content/{file_name}'  # Construct full file path
    df = pd.read_csv(file_path)          # Read CSV into DataFrame

    # Perform preprocessing steps as needed
    # For example, you can print the head of each DataFrame after reading
    print(f'Head of {file_name}:')
    print(df.head())

    # Example: Save the preprocessed DataFrame back to CSV if needed
    # df.to_csv(f'preprocessed_{file_name}', index=False)

    # Example: Or continue processing the DataFrame as required
    # For instance, you might concatenate these DataFrames into a single one


